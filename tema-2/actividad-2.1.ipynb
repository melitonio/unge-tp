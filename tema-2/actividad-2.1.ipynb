{
    "cells": [
        {
            "cell_type": "markdown",
            "metadata": {},
            "source": [
                "# Pregunta 1\n",
                "\n",
                "Implemente un método en Java que permita encontrar la mediana de un vector de números enteros utilizando el algoritmo de Quickselect."
            ]
        },
        {
            "cell_type": "code",
            "execution_count": null,
            "metadata": {
                "vscode": {
                    "languageId": "java"
                }
            },
            "outputs": [],
            "source": []
        },
        {
            "cell_type": "markdown",
            "metadata": {},
            "source": [
                "__Explique razonadamente el funcionamiento del código Java propuesto, así como la estrategia que ha seguido para resolver el problema__"
            ]
        },
        {
            "cell_type": "markdown",
            "metadata": {
                "vscode": {
                    "languageId": "java"
                }
            },
            "source": []
        },
        {
            "cell_type": "markdown",
            "metadata": {},
            "source": [
                "# Pregunta 2\n",
                "\n",
                "Diseñe una clase en Java que permita almacenar un vector de números reales y proporcione métodos para: ordenar por mezcla (merge sort), ordenar por Shell utilizando incrementos de Hibbard, y ordenar por selección."
            ]
        },
        {
            "cell_type": "code",
            "execution_count": null,
            "metadata": {
                "vscode": {
                    "languageId": "java"
                }
            },
            "outputs": [],
            "source": []
        },
        {
            "cell_type": "markdown",
            "metadata": {},
            "source": [
                "__Explique razonadamente el funcionamiento del código Java propuesto, así como la estrategia que ha seguido para resolver el problema__"
            ]
        },
        {
            "cell_type": "markdown",
            "metadata": {
                "vscode": {
                    "languageId": "java"
                }
            },
            "source": []
        },
        {
            "cell_type": "markdown",
            "metadata": {},
            "source": [
                "# Pregunta 3\n",
                "\n",
                "Implemente un programa que permita comparar el tiempo de ejecución de los algoritmos de ordenación por inserción, selección y burbuja. Visualice los resultados en un gráfico."
            ]
        },
        {
            "cell_type": "code",
            "execution_count": null,
            "metadata": {
                "vscode": {
                    "languageId": "java"
                }
            },
            "outputs": [],
            "source": []
        },
        {
            "cell_type": "markdown",
            "metadata": {},
            "source": [
                "__Explique razonadamente el funcionamiento del código Java propuesto, así como la estrategia que ha seguido para resolver el problema__"
            ]
        },
        {
            "cell_type": "markdown",
            "metadata": {
                "vscode": {
                    "languageId": "java"
                }
            },
            "source": []
        },
        {
            "cell_type": "markdown",
            "metadata": {},
            "source": [
                "# Pregunta 4\n",
                "\n",
                "Cree un método que implemente el algoritmo de ordenación rápida (quicksort) de forma recursiva, pero que permita establecer un pivote aleatorio en cada llamada."
            ]
        },
        {
            "cell_type": "code",
            "execution_count": null,
            "metadata": {
                "vscode": {
                    "languageId": "java"
                }
            },
            "outputs": [],
            "source": []
        },
        {
            "cell_type": "markdown",
            "metadata": {},
            "source": [
                "__Explique razonadamente el funcionamiento del código Java propuesto, así como la estrategia que ha seguido para resolver el problema__"
            ]
        },
        {
            "cell_type": "markdown",
            "metadata": {
                "vscode": {
                    "languageId": "java"
                }
            },
            "source": []
        },
        {
            "cell_type": "markdown",
            "metadata": {},
            "source": [
                "# Pregunta 5\n",
                "\n",
                "Diseñe una clase que permita manejar vectores dispersos, incluyendo métodos para sumar, restar y multiplicar vectores."
            ]
        },
        {
            "cell_type": "code",
            "execution_count": null,
            "metadata": {
                "vscode": {
                    "languageId": "java"
                }
            },
            "outputs": [],
            "source": []
        },
        {
            "cell_type": "markdown",
            "metadata": {},
            "source": [
                "__Explique razonadamente el funcionamiento del código Java propuesto, así como la estrategia que ha seguido para resolver el problema__"
            ]
        },
        {
            "cell_type": "markdown",
            "metadata": {
                "vscode": {
                    "languageId": "java"
                }
            },
            "source": []
        },
        {
            "cell_type": "markdown",
            "metadata": {},
            "source": [
                "# Pregunta 6\n",
                "\n",
                "Implemente un programa en Java que ordene un vector utilizando el algoritmo de ordenación por mezcla, pero empleando una estrategia iterativa en lugar de recursiva."
            ]
        },
        {
            "cell_type": "code",
            "execution_count": null,
            "metadata": {
                "vscode": {
                    "languageId": "java"
                }
            },
            "outputs": [],
            "source": []
        },
        {
            "cell_type": "markdown",
            "metadata": {},
            "source": [
                "__Explique razonadamente el funcionamiento del código Java propuesto, así como la estrategia que ha seguido para resolver el problema__"
            ]
        },
        {
            "cell_type": "markdown",
            "metadata": {
                "vscode": {
                    "languageId": "java"
                }
            },
            "source": []
        },
        {
            "cell_type": "markdown",
            "metadata": {},
            "source": [
                "# Pregunta 7\n",
                "\n",
                "Diseñe un programa que permita calcular cuántos elementos hay repetidos en un vector y cuántas veces aparece cada elemento, utilizando un HashMap."
            ]
        },
        {
            "cell_type": "code",
            "execution_count": null,
            "metadata": {
                "vscode": {
                    "languageId": "java"
                }
            },
            "outputs": [],
            "source": []
        },
        {
            "cell_type": "markdown",
            "metadata": {},
            "source": [
                "__Explique razonadamente el funcionamiento del código Java propuesto, así como la estrategia que ha seguido para resolver el problema__"
            ]
        },
        {
            "cell_type": "markdown",
            "metadata": {
                "vscode": {
                    "languageId": "java"
                }
            },
            "source": []
        },
        {
            "cell_type": "markdown",
            "metadata": {},
            "source": [
                "# Pregunta 8\n",
                "\n",
                "Implemente una función que determine si un vector está ordenado y si es así, en qué orden (ascendente o descendente)."
            ]
        },
        {
            "cell_type": "code",
            "execution_count": null,
            "metadata": {
                "vscode": {
                    "languageId": "java"
                }
            },
            "outputs": [],
            "source": []
        },
        {
            "cell_type": "markdown",
            "metadata": {},
            "source": [
                "__Explique razonadamente el funcionamiento del código Java propuesto, así como la estrategia que ha seguido para resolver el problema__"
            ]
        },
        {
            "cell_type": "markdown",
            "metadata": {
                "vscode": {
                    "languageId": "java"
                }
            },
            "source": []
        },
        {
            "cell_type": "markdown",
            "metadata": {},
            "source": [
                "# Pregunta 9\n",
                "\n",
                "Cree un método que permita calcular el índice del primer elemento mayor que un valor dado en un vector ordenado, utilizando búsqueda binaria."
            ]
        },
        {
            "cell_type": "code",
            "execution_count": null,
            "metadata": {
                "vscode": {
                    "languageId": "java"
                }
            },
            "outputs": [],
            "source": []
        },
        {
            "cell_type": "markdown",
            "metadata": {},
            "source": [
                "__Explique razonadamente el funcionamiento del código Java propuesto, así como la estrategia que ha seguido para resolver el problema__"
            ]
        },
        {
            "cell_type": "markdown",
            "metadata": {
                "vscode": {
                    "languageId": "java"
                }
            },
            "source": []
        },
        {
            "cell_type": "markdown",
            "metadata": {},
            "source": [
                "# Pregunta 10\n",
                "\n",
                "Diseñe un programa que permita comparar dos vectores de números enteros y determine si uno es permutación del otro."
            ]
        },
        {
            "cell_type": "code",
            "execution_count": null,
            "metadata": {
                "vscode": {
                    "languageId": "java"
                }
            },
            "outputs": [],
            "source": []
        },
        {
            "cell_type": "markdown",
            "metadata": {},
            "source": [
                "__Explique razonadamente el funcionamiento del código Java propuesto, así como la estrategia que ha seguido para resolver el problema__"
            ]
        },
        {
            "cell_type": "markdown",
            "metadata": {},
            "source": []
        }
    ],
    "metadata": {
        "language_info": {
            "name": "python"
        }
    },
    "nbformat": 4,
    "nbformat_minor": 2
}
