{
    "cells": [
        {
            "cell_type": "markdown",
            "metadata": {},
            "source": [
                "# Pregunta 1\n",
                "Escribe un programa que implemente una lista genérica en Java, permitiendo operaciones básicas como agregar, eliminar, buscar y ordenar elementos. La lista debe manejar elementos de cualquier tipo genérico."
            ]
        },
        {
            "cell_type": "markdown",
            "metadata": {},
            "source": [
                "__Inserte en la siguiente celada, el código Java de su solución__"
            ]
        },
        {
            "cell_type": "code",
            "metadata": {
                "vscode": {
                    "languageId": "java"
                }
            },
            "source": []
        },
        {
            "cell_type": "markdown",
            "metadata": {},
            "source": [
                "__Explique razonadamente el funcionamiento del código Java propuesto, así como la estrategia que ha seguido para resolver el problema__"
            ]
        },
        {
            "cell_type": "code",
            "metadata": {
                "vscode": {
                    "languageId": "java"
                }
            },
            "source": []
        },
        {
            "cell_type": "markdown",
            "metadata": {},
            "source": [
                "# Pregunta 2\n",
                "Diseña una clase en Java que implemente una matriz dispersa utilizando un HashMap. Incluye métodos para sumar dos matrices dispersas, multiplicarlas y transponer una matriz dispersa."
            ]
        },
        {
            "cell_type": "markdown",
            "metadata": {},
            "source": [
                "__Inserte en la siguiente celada, el código Java de su solución__"
            ]
        },
        {
            "cell_type": "code",
            "metadata": {
                "vscode": {
                    "languageId": "java"
                }
            },
            "source": []
        },
        {
            "cell_type": "markdown",
            "metadata": {},
            "source": [
                "__Explique razonadamente el funcionamiento del código Java propuesto, así como la estrategia que ha seguido para resolver el problema__"
            ]
        },
        {
            "cell_type": "code",
            "metadata": {
                "vscode": {
                    "languageId": "java"
                }
            },
            "source": []
        },
        {
            "cell_type": "markdown",
            "metadata": {},
            "source": [
                "# Pregunta 3\n",
                "Escribe un programa que implemente una lista de números complejos. La clase debe incluir métodos para insertar, eliminar y ordenar los números complejos según su módulo. Proporciona un ejemplo funcional."
            ]
        },
        {
            "cell_type": "markdown",
            "metadata": {},
            "source": [
                "__Inserte en la siguiente celada, el código Java de su solución__"
            ]
        },
        {
            "cell_type": "code",
            "metadata": {
                "vscode": {
                    "languageId": "java"
                }
            },
            "source": []
        },
        {
            "cell_type": "markdown",
            "metadata": {},
            "source": [
                "__Explique razonadamente el funcionamiento del código Java propuesto, así como la estrategia que ha seguido para resolver el problema__"
            ]
        },
        {
            "cell_type": "code",
            "metadata": {
                "vscode": {
                    "languageId": "java"
                }
            },
            "source": []
        },
        {
            "cell_type": "markdown",
            "metadata": {},
            "source": [
                "# Pregunta 4\n",
                "Implementa un algoritmo que multiplique dos matrices en Java. El programa debe validar que las matrices sean multiplicables y manejar posibles errores."
            ]
        },
        {
            "cell_type": "markdown",
            "metadata": {},
            "source": [
                "__Inserte en la siguiente celada, el código Java de su solución__"
            ]
        },
        {
            "cell_type": "code",
            "metadata": {
                "vscode": {
                    "languageId": "java"
                }
            },
            "source": []
        },
        {
            "cell_type": "markdown",
            "metadata": {},
            "source": [
                "__Explique razonadamente el funcionamiento del código Java propuesto, así como la estrategia que ha seguido para resolver el problema__"
            ]
        },
        {
            "cell_type": "code",
            "metadata": {
                "vscode": {
                    "languageId": "java"
                }
            },
            "source": []
        },
        {
            "cell_type": "markdown",
            "metadata": {},
            "source": [
                "# Pregunta 5\n",
                "Escribe una función que encuentre el subarreglo con la suma máxima en un arreglo de números enteros. Utiliza el algoritmo de Kadane para optimizar el cálculo."
            ]
        },
        {
            "cell_type": "markdown",
            "metadata": {},
            "source": [
                "__Inserte en la siguiente celada, el código Java de su solución__"
            ]
        },
        {
            "cell_type": "code",
            "metadata": {
                "vscode": {
                    "languageId": "java"
                }
            },
            "source": []
        },
        {
            "cell_type": "markdown",
            "metadata": {},
            "source": [
                "__Explique razonadamente el funcionamiento del código Java propuesto, así como la estrategia que ha seguido para resolver el problema__"
            ]
        },
        {
            "cell_type": "code",
            "metadata": {
                "vscode": {
                    "languageId": "java"
                }
            },
            "source": []
        },
        {
            "cell_type": "markdown",
            "metadata": {},
            "source": [
                "# Pregunta 6\n",
                "Crea una clase en Java que represente una matriz dinámica. La clase debe soportar operaciones como agregar filas o columnas dinámicamente, y obtener submatrices."
            ]
        },
        {
            "cell_type": "markdown",
            "metadata": {},
            "source": [
                "__Inserte en la siguiente celada, el código Java de su solución__"
            ]
        },
        {
            "cell_type": "code",
            "metadata": {
                "vscode": {
                    "languageId": "java"
                }
            },
            "source": []
        },
        {
            "cell_type": "markdown",
            "metadata": {},
            "source": [
                "__Explique razonadamente el funcionamiento del código Java propuesto, así como la estrategia que ha seguido para resolver el problema__"
            ]
        },
        {
            "cell_type": "code",
            "metadata": {
                "vscode": {
                    "languageId": "java"
                }
            },
            "source": []
        },
        {
            "cell_type": "markdown",
            "metadata": {},
            "source": [
                "# Pregunta 7\n",
                "Implementa un método en Java que verifique si una matriz cuadrada es un cuadrado mágico. Un cuadrado mágico es aquel donde la suma de cada fila, columna y diagonal principal es la misma."
            ]
        },
        {
            "cell_type": "markdown",
            "metadata": {},
            "source": [
                "__Inserte en la siguiente celada, el código Java de su solución__"
            ]
        },
        {
            "cell_type": "code",
            "metadata": {
                "vscode": {
                    "languageId": "java"
                }
            },
            "source": []
        },
        {
            "cell_type": "markdown",
            "metadata": {},
            "source": [
                "__Explique razonadamente el funcionamiento del código Java propuesto, así como la estrategia que ha seguido para resolver el problema__"
            ]
        },
        {
            "cell_type": "code",
            "metadata": {
                "vscode": {
                    "languageId": "java"
                }
            },
            "source": []
        },
        {
            "cell_type": "markdown",
            "metadata": {},
            "source": [
                "# Pregunta 8\n",
                "Diseña un programa que implemente una lista enlazada doblemente en Java. Agrega métodos para insertar, eliminar y recorrer la lista tanto en orden directo como inverso."
            ]
        },
        {
            "cell_type": "markdown",
            "metadata": {},
            "source": [
                "__Inserte en la siguiente celada, el código Java de su solución__"
            ]
        },
        {
            "cell_type": "code",
            "metadata": {
                "vscode": {
                    "languageId": "java"
                }
            },
            "source": []
        },
        {
            "cell_type": "markdown",
            "metadata": {},
            "source": [
                "__Explique razonadamente el funcionamiento del código Java propuesto, así como la estrategia que ha seguido para resolver el problema__"
            ]
        },
        {
            "cell_type": "code",
            "metadata": {
                "vscode": {
                    "languageId": "java"
                }
            },
            "source": []
        },
        {
            "cell_type": "markdown",
            "metadata": {},
            "source": [
                "# Pregunta 9\n",
                "Implementa un programa en Java que encuentre el determinante de una matriz cuadrada de cualquier dimensión utilizando un enfoque recursivo."
            ]
        },
        {
            "cell_type": "markdown",
            "metadata": {},
            "source": [
                "__Inserte en la siguiente celada, el código Java de su solución__"
            ]
        },
        {
            "cell_type": "code",
            "metadata": {
                "vscode": {
                    "languageId": "java"
                }
            },
            "source": []
        },
        {
            "cell_type": "markdown",
            "metadata": {},
            "source": [
                "__Explique razonadamente el funcionamiento del código Java propuesto, así como la estrategia que ha seguido para resolver el problema__"
            ]
        },
        {
            "cell_type": "code",
            "metadata": {
                "vscode": {
                    "languageId": "java"
                }
            },
            "source": []
        },
        {
            "cell_type": "markdown",
            "metadata": {},
            "source": [
                "# Pregunta 10\n",
                "Crea un programa que implemente un sistema de colisión con una lista de bounding boxes representadas por coordenadas en una matriz. Proporciona métodos para detectar intersecciones entre cajas."
            ]
        },
        {
            "cell_type": "markdown",
            "metadata": {},
            "source": [
                "__Inserte en la siguiente celada, el código Java de su solución__"
            ]
        },
        {
            "cell_type": "code",
            "metadata": {
                "vscode": {
                    "languageId": "java"
                }
            },
            "source": []
        },
        {
            "cell_type": "markdown",
            "metadata": {},
            "source": [
                "__Explique razonadamente el funcionamiento del código Java propuesto, así como la estrategia que ha seguido para resolver el problema__"
            ]
        },
        {
            "cell_type": "code",
            "metadata": {
                "vscode": {
                    "languageId": "java"
                }
            },
            "source": []
        }
    ],
    "metadata": {
        "kernelspec": {
            "display_name": "Java",
            "language": "java",
            "name": "java"
        },
        "language_info": {
            "name": "java"
        }
    },
    "nbformat": 4,
    "nbformat_minor": 4
}