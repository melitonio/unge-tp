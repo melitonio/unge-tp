{
    "cells": [
        {
            "cell_type": "markdown",
            "metadata": {},
            "source": [
                "# Pregunta 1\n",
                "\n",
                "Implementa una clase que simule un TDA Lista que almacene números complejos y permita las operaciones: insertar, eliminar, recuperar y ordenar los elementos según su módulo.\n"
            ]
        },
        {
            "cell_type": "code",
            "execution_count": 2,
            "metadata": {
                "vscode": {
                    "languageId": "java"
                }
            },
            "outputs": [],
            "source": [
                "%classpath add jar /workspace/lib/junit-platform-console-1.10.0.jar\n",
                "%classpath add jar /workspace/lib/junit-jupiter-api-5.10.0.jar\n",
                "%classpath add jar /workspace/lib/opentest4j-1.3.0.jar\n",
                "%classpath add jar /workspace/lib/junit-platform-commons-1.10.0.jar\n",
                "\n",
                "import java.util.ArrayList;\n",
                "import org.junit.jupiter.api.Test;\n",
                "import static org.junit.jupiter.api.Assertions.*;"
            ]
        },
        {
            "cell_type": "code",
            "execution_count": 3,
            "metadata": {
                "vscode": {
                    "languageId": "java"
                }
            },
            "outputs": [],
            "source": [
                "public class Complejo\n",
                "{\n",
                "    private double real;\n",
                "    private double imaginario;\n",
                "\n",
                "    public Complejo(double real, double imaginario)\n",
                "    {\n",
                "        this.real = real;\n",
                "        this.imaginario = imaginario;\n",
                "    }\n",
                "\n",
                "    public double getReal()\n",
                "    {\n",
                "        return real;\n",
                "    }\n",
                "\n",
                "    public double getImaginario()\n",
                "    {\n",
                "        return imaginario;\n",
                "    }\n",
                "\n",
                "    public double modulo()\n",
                "    {\n",
                "        return Math.sqrt(real * real + imaginario * imaginario);\n",
                "    }\n",
                "\n",
                "    public void imprimir()\n",
                "    {\n",
                "        System.out.println(real + \" + \" + imaginario + \"i\" + \" = \" + modulo());\n",
                "    }\n",
                "    \n",
                "}"
            ]
        },
        {
            "cell_type": "code",
            "execution_count": 25,
            "metadata": {
                "vscode": {
                    "languageId": "java"
                }
            },
            "outputs": [],
            "source": [
                "public class ListaComplejo\n",
                "{\n",
                "    private ArrayList<Complejo> lista = new ArrayList<Complejo>();\n",
                "\n",
                "    public void insertar(Complejo c){\n",
                "        lista.add(c);\n",
                "    }\n",
                "\n",
                "    public void eliminar(int i){\n",
                "        lista.remove(i);\n",
                "    }\n",
                "\n",
                "    public Complejo recupear(int i){\n",
                "        return lista.get(i);\n",
                "    }\n",
                "\n",
                "    public int size(){\n",
                "        return lista.size();\n",
                "    }\n",
                "\n",
                "    public void ordenar(){\n",
                "        lista.sort((c1, c2) -> Double.compare(c1.modulo(), c2.modulo()));\n",
                "    }\n",
                "\n",
                "    public void imprimir(){\n",
                "        for(Complejo c : lista){\n",
                "            c.imprimir();\n",
                "        }\n",
                "        System.out.println();\n",
                "    }\n",
                "}"
            ]
        },
        {
            "cell_type": "code",
            "execution_count": null,
            "metadata": {
                "tags": [
                    "parameters"
                ],
                "vscode": {
                    "languageId": "java"
                }
            },
            "outputs": [],
            "source": [
                "@Test\n",
                "public void testListaComplejos()\n",
                "{\n",
                "    ListaComplejo lista = new ListaComplejo();\n",
                "\n",
                "    assertEquals(0, lista.size(), \"El tamaño de la lista no es correcto \\n\\n\");\n",
                "\n",
                "    lista.insertar(new Complejo(6, 9));\n",
                "    lista.insertar(new Complejo(3, 4));\n",
                "    lista.insertar(new Complejo(5, 12));\n",
                "    lista.insertar(new Complejo(1, 1));\n",
                "\n",
                "    assertEquals(4, lista.size(), \"El tamaño de la lista no es correcto \\n\\n\");\n",
                "    assertEquals(5, lista.recupear(2).getReal(), \"El elemento no se ha insertado correctamente \\n\\n\");\n",
                "\n",
                "    lista.imprimir();\n",
                "    lista.ordenar();\n",
                "    lista.imprimir();\n",
                "    \n",
                "    var c = lista.recupear(0);\n",
                "    assertEquals(1, c.getReal(), \"El elemento no se ha recuperado correctamente \\n\\n\");\n",
                "    c.imprimir();\n",
                "}\n",
                "\n",
                "testListaComplejos();"
            ]
        },
        {
            "cell_type": "markdown",
            "metadata": {},
            "source": [
                "**Explique razonadamente el funcionamiento del código Java propuesto, así como la estrategia que ha seguido para resolver el problema**\n"
            ]
        },
        {
            "cell_type": "markdown",
            "metadata": {
                "vscode": {
                    "languageId": "java"
                }
            },
            "source": []
        },
        {
            "cell_type": "markdown",
            "metadata": {},
            "source": [
                "# Pregunta 2\n",
                "\n",
                "Diseña un algoritmo que calcule el máximo común divisor (MCD) utilizando tanto el método clásico como el método de Euclides. Evalúa y compara los casos de mejor, peor y promedio.\n"
            ]
        },
        {
            "cell_type": "code",
            "execution_count": null,
            "metadata": {
                "vscode": {
                    "languageId": "java"
                }
            },
            "outputs": [],
            "source": []
        },
        {
            "cell_type": "markdown",
            "metadata": {},
            "source": [
                "**Explique razonadamente el funcionamiento del código Java propuesto, así como la estrategia que ha seguido para resolver el problema**\n"
            ]
        },
        {
            "cell_type": "markdown",
            "metadata": {
                "vscode": {
                    "languageId": "java"
                }
            },
            "source": [
                "# Título de mi explicación\n",
                "\n",
                "## Subtítulo de mi explicación\n",
                "\n",
                "- item 1\n",
                "- item 2\n",
                "- item 3\n"
            ]
        },
        {
            "cell_type": "markdown",
            "metadata": {},
            "source": [
                "# Pregunta 3\n",
                "\n",
                "Crea un método que invierta una lista de números complejos, pero sin usar estructuras auxiliares. Los números complejos deben mantenerse ordenados según su módulo.\n"
            ]
        },
        {
            "cell_type": "code",
            "execution_count": null,
            "metadata": {
                "vscode": {
                    "languageId": "java"
                }
            },
            "outputs": [],
            "source": []
        },
        {
            "cell_type": "markdown",
            "metadata": {},
            "source": [
                "**Explique razonadamente el funcionamiento del código Java propuesto, así como la estrategia que ha seguido para resolver el problema**\n"
            ]
        },
        {
            "cell_type": "markdown",
            "metadata": {
                "vscode": {
                    "languageId": "java"
                }
            },
            "source": []
        },
        {
            "cell_type": "markdown",
            "metadata": {},
            "source": [
                "# Pregunta 4\n",
                "\n",
                "Escribe un programa en Java que utilice una matriz dispersa para almacenar números enteros y permita las operaciones: sumar dos matrices, multiplicarlas y transponer una matriz.\n"
            ]
        },
        {
            "cell_type": "code",
            "execution_count": null,
            "metadata": {
                "vscode": {
                    "languageId": "java"
                }
            },
            "outputs": [],
            "source": []
        },
        {
            "cell_type": "markdown",
            "metadata": {},
            "source": [
                "**Explique razonadamente el funcionamiento del código Java propuesto, así como la estrategia que ha seguido para resolver el problema**\n"
            ]
        },
        {
            "cell_type": "markdown",
            "metadata": {
                "vscode": {
                    "languageId": "java"
                }
            },
            "source": []
        },
        {
            "cell_type": "markdown",
            "metadata": {},
            "source": [
                "# Pregunta 5\n",
                "\n",
                "Diseña una función en Java para calcular el tiempo de ejecución de un algoritmo basado en una recurrencia dada. Usa T(n) = 3T(n-3) + 0.5n^2 como ejemplo y determina su complejidad.\n"
            ]
        },
        {
            "cell_type": "code",
            "execution_count": null,
            "metadata": {
                "vscode": {
                    "languageId": "java"
                }
            },
            "outputs": [],
            "source": []
        },
        {
            "cell_type": "markdown",
            "metadata": {},
            "source": [
                "**Explique razonadamente el funcionamiento del código Java propuesto, así como la estrategia que ha seguido para resolver el problema**\n"
            ]
        },
        {
            "cell_type": "markdown",
            "metadata": {
                "vscode": {
                    "languageId": "java"
                }
            },
            "source": []
        },
        {
            "cell_type": "markdown",
            "metadata": {},
            "source": [
                "# Pregunta 6\n",
                "\n",
                "Crea un programa que implemente una lista prioritaria en Java. Cada elemento debe tener un nivel de prioridad que influya en su orden. Utiliza una estructura tipo ArrayList para almacenarlos.\n"
            ]
        },
        {
            "cell_type": "code",
            "execution_count": null,
            "metadata": {
                "vscode": {
                    "languageId": "java"
                }
            },
            "outputs": [],
            "source": []
        },
        {
            "cell_type": "markdown",
            "metadata": {},
            "source": [
                "**Explique razonadamente el funcionamiento del código Java propuesto, así como la estrategia que ha seguido para resolver el problema**\n"
            ]
        },
        {
            "cell_type": "markdown",
            "metadata": {
                "vscode": {
                    "languageId": "java"
                }
            },
            "source": []
        },
        {
            "cell_type": "markdown",
            "metadata": {},
            "source": [
                "# Pregunta 7\n",
                "\n",
                "Diseña un método en Java para comparar dos listas que contengan números complejos, determinando si son iguales en contenido, aunque el orden de los elementos difiera.\n"
            ]
        },
        {
            "cell_type": "code",
            "execution_count": null,
            "metadata": {
                "vscode": {
                    "languageId": "java"
                }
            },
            "outputs": [],
            "source": []
        },
        {
            "cell_type": "markdown",
            "metadata": {},
            "source": [
                "**Explique razonadamente el funcionamiento del código Java propuesto, así como la estrategia que ha seguido para resolver el problema**\n"
            ]
        },
        {
            "cell_type": "markdown",
            "metadata": {
                "vscode": {
                    "languageId": "java"
                }
            },
            "source": []
        },
        {
            "cell_type": "markdown",
            "metadata": {},
            "source": [
                "# Pregunta 8\n",
                "\n",
                "Implementa un algoritmo en Java que calcule el determinante de una matriz triangular superior en tiempo lineal, dado que la matriz ya está triangularizada.\n"
            ]
        },
        {
            "cell_type": "code",
            "execution_count": null,
            "metadata": {
                "vscode": {
                    "languageId": "java"
                }
            },
            "outputs": [],
            "source": []
        },
        {
            "cell_type": "markdown",
            "metadata": {},
            "source": [
                "**Explique razonadamente el funcionamiento del código Java propuesto, así como la estrategia que ha seguido para resolver el problema**\n"
            ]
        },
        {
            "cell_type": "markdown",
            "metadata": {
                "vscode": {
                    "languageId": "java"
                }
            },
            "source": []
        },
        {
            "cell_type": "markdown",
            "metadata": {},
            "source": [
                "# Pregunta 9\n",
                "\n",
                "Escribe un programa que permita anexar dos listas de números complejos, combinando los elementos de ambas listas en una nueva, manteniendo el orden por módulo.\n"
            ]
        },
        {
            "cell_type": "code",
            "execution_count": null,
            "metadata": {
                "vscode": {
                    "languageId": "java"
                }
            },
            "outputs": [],
            "source": []
        },
        {
            "cell_type": "markdown",
            "metadata": {},
            "source": [
                "**Explique razonadamente el funcionamiento del código Java propuesto, así como la estrategia que ha seguido para resolver el problema**\n"
            ]
        },
        {
            "cell_type": "markdown",
            "metadata": {
                "vscode": {
                    "languageId": "java"
                }
            },
            "source": []
        },
        {
            "cell_type": "markdown",
            "metadata": {},
            "source": [
                "# Pregunta 10\n",
                "\n",
                "Diseña un método en Java que simule operaciones CRUD (crear, leer, actualizar, eliminar) en una lista doblemente enlazada de números complejos. Proporciona ejemplos funcionales.\n"
            ]
        },
        {
            "cell_type": "code",
            "execution_count": null,
            "metadata": {
                "vscode": {
                    "languageId": "java"
                }
            },
            "outputs": [],
            "source": []
        },
        {
            "cell_type": "markdown",
            "metadata": {},
            "source": [
                "**Explique razonadamente el funcionamiento del código Java propuesto, así como la estrategia que ha seguido para resolver el problema**\n"
            ]
        },
        {
            "cell_type": "markdown",
            "metadata": {
                "vscode": {
                    "languageId": "java"
                }
            },
            "source": []
        }
    ],
    "metadata": {
        "kernelspec": {
            "display_name": "Java",
            "language": "java",
            "name": "java"
        },
        "language_info": {
            "codemirror_mode": "java",
            "file_extension": ".jshell",
            "mimetype": "text/x-java-source",
            "name": "Java",
            "pygments_lexer": "java",
            "version": "11.0.25+9-post-Ubuntu-1ubuntu124.04"
        }
    },
    "nbformat": 4,
    "nbformat_minor": 2
}
