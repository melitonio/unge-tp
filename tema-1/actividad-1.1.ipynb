{
    "cells": [
        {
            "cell_type": "markdown",
            "metadata": {},
            "source": [
                "# Pregunta 1\n",
                "\n",
                "Implementa una clase que simule un TDA Lista que almacene números complejos y permita las operaciones: insertar, eliminar, recuperar y ordenar los elementos según su módulo."
            ]
        },
        {
            "cell_type": "code",
            "execution_count": null,
            "metadata": {
                "vscode": {
                    "languageId": "java"
                }
            },
            "outputs": [],
            "source": []
        },
        {
            "cell_type": "markdown",
            "metadata": {},
            "source": [
                "__Explique razonadamente el funcionamiento del código Java propuesto, así como la estrategia que ha seguido para resolver el problema__"
            ]
        },
        {
            "cell_type": "markdown",
            "metadata": {
                "vscode": {
                    "languageId": "java"
                }
            },
            "source": []
        },
        {
            "cell_type": "markdown",
            "metadata": {},
            "source": [
                "# Pregunta 2\n",
                "\n",
                "Diseña un algoritmo que calcule el máximo común divisor (MCD) utilizando tanto el método clásico como el método de Euclides. Evalúa y compara los casos de mejor, peor y promedio."
            ]
        },
        {
            "cell_type": "code",
            "execution_count": null,
            "metadata": {
                "vscode": {
                    "languageId": "java"
                }
            },
            "outputs": [],
            "source": []
        },
        {
            "cell_type": "markdown",
            "metadata": {},
            "source": [
                "__Explique razonadamente el funcionamiento del código Java propuesto, así como la estrategia que ha seguido para resolver el problema__"
            ]
        },
        {
            "cell_type": "markdown",
            "metadata": {
                "vscode": {
                    "languageId": "java"
                }
            },
            "source": []
        },
        {
            "cell_type": "markdown",
            "metadata": {},
            "source": [
                "# Pregunta 3\n",
                "\n",
                "Crea un método que invierta una lista de números complejos, pero sin usar estructuras auxiliares. Los números complejos deben mantenerse ordenados según su módulo."
            ]
        },
        {
            "cell_type": "code",
            "execution_count": null,
            "metadata": {
                "vscode": {
                    "languageId": "java"
                }
            },
            "outputs": [],
            "source": []
        },
        {
            "cell_type": "markdown",
            "metadata": {},
            "source": [
                "__Explique razonadamente el funcionamiento del código Java propuesto, así como la estrategia que ha seguido para resolver el problema__"
            ]
        },
        {
            "cell_type": "markdown",
            "metadata": {
                "vscode": {
                    "languageId": "java"
                }
            },
            "source": []
        },
        {
            "cell_type": "markdown",
            "metadata": {},
            "source": [
                "# Pregunta 4\n",
                "\n",
                "Escribe un programa en Java que utilice una matriz dispersa para almacenar números enteros y permita las operaciones: sumar dos matrices, multiplicarlas y transponer una matriz."
            ]
        },
        {
            "cell_type": "code",
            "execution_count": null,
            "metadata": {
                "vscode": {
                    "languageId": "java"
                }
            },
            "outputs": [],
            "source": []
        },
        {
            "cell_type": "markdown",
            "metadata": {},
            "source": [
                "__Explique razonadamente el funcionamiento del código Java propuesto, así como la estrategia que ha seguido para resolver el problema__"
            ]
        },
        {
            "cell_type": "markdown",
            "metadata": {
                "vscode": {
                    "languageId": "java"
                }
            },
            "source": []
        },
        {
            "cell_type": "markdown",
            "metadata": {},
            "source": [
                "# Pregunta 5\n",
                "\n",
                "Diseña una función en Java para calcular el tiempo de ejecución de un algoritmo basado en una recurrencia dada. Usa T(n) = 3T(n-3) + 0.5n^2 como ejemplo y determina su complejidad."
            ]
        },
        {
            "cell_type": "code",
            "execution_count": null,
            "metadata": {
                "vscode": {
                    "languageId": "java"
                }
            },
            "outputs": [],
            "source": []
        },
        {
            "cell_type": "markdown",
            "metadata": {},
            "source": [
                "__Explique razonadamente el funcionamiento del código Java propuesto, así como la estrategia que ha seguido para resolver el problema__"
            ]
        },
        {
            "cell_type": "markdown",
            "metadata": {
                "vscode": {
                    "languageId": "java"
                }
            },
            "source": []
        },
        {
            "cell_type": "markdown",
            "metadata": {},
            "source": [
                "# Pregunta 6\n",
                "\n",
                "Crea un programa que implemente una lista prioritaria en Java. Cada elemento debe tener un nivel de prioridad que influya en su orden. Utiliza una estructura tipo ArrayList para almacenarlos."
            ]
        },
        {
            "cell_type": "code",
            "execution_count": null,
            "metadata": {
                "vscode": {
                    "languageId": "java"
                }
            },
            "outputs": [],
            "source": []
        },
        {
            "cell_type": "markdown",
            "metadata": {},
            "source": [
                "__Explique razonadamente el funcionamiento del código Java propuesto, así como la estrategia que ha seguido para resolver el problema__"
            ]
        },
        {
            "cell_type": "markdown",
            "metadata": {
                "vscode": {
                    "languageId": "java"
                }
            },
            "source": []
        },
        {
            "cell_type": "markdown",
            "metadata": {},
            "source": [
                "# Pregunta 7\n",
                "\n",
                "Diseña un método en Java para comparar dos listas que contengan números complejos, determinando si son iguales en contenido, aunque el orden de los elementos difiera."
            ]
        },
        {
            "cell_type": "code",
            "execution_count": null,
            "metadata": {
                "vscode": {
                    "languageId": "java"
                }
            },
            "outputs": [],
            "source": []
        },
        {
            "cell_type": "markdown",
            "metadata": {},
            "source": [
                "__Explique razonadamente el funcionamiento del código Java propuesto, así como la estrategia que ha seguido para resolver el problema__"
            ]
        },
        {
            "cell_type": "markdown",
            "metadata": {
                "vscode": {
                    "languageId": "java"
                }
            },
            "source": []
        },
        {
            "cell_type": "markdown",
            "metadata": {},
            "source": [
                "# Pregunta 8\n",
                "\n",
                "Implementa un algoritmo en Java que calcule el determinante de una matriz triangular superior en tiempo lineal, dado que la matriz ya está triangularizada."
            ]
        },
        {
            "cell_type": "code",
            "execution_count": null,
            "metadata": {
                "vscode": {
                    "languageId": "java"
                }
            },
            "outputs": [],
            "source": []
        },
        {
            "cell_type": "markdown",
            "metadata": {},
            "source": [
                "__Explique razonadamente el funcionamiento del código Java propuesto, así como la estrategia que ha seguido para resolver el problema__"
            ]
        },
        {
            "cell_type": "markdown",
            "metadata": {
                "vscode": {
                    "languageId": "java"
                }
            },
            "source": []
        },
        {
            "cell_type": "markdown",
            "metadata": {},
            "source": [
                "# Pregunta 9\n",
                "\n",
                "Escribe un programa que permita anexar dos listas de números complejos, combinando los elementos de ambas listas en una nueva, manteniendo el orden por módulo."
            ]
        },
        {
            "cell_type": "code",
            "execution_count": null,
            "metadata": {
                "vscode": {
                    "languageId": "java"
                }
            },
            "outputs": [],
            "source": []
        },
        {
            "cell_type": "markdown",
            "metadata": {},
            "source": [
                "__Explique razonadamente el funcionamiento del código Java propuesto, así como la estrategia que ha seguido para resolver el problema__"
            ]
        },
        {
            "cell_type": "markdown",
            "metadata": {
                "vscode": {
                    "languageId": "java"
                }
            },
            "source": []
        },
        {
            "cell_type": "markdown",
            "metadata": {},
            "source": [
                "# Pregunta 10\n",
                "\n",
                "Diseña un método en Java que simule operaciones CRUD (crear, leer, actualizar, eliminar) en una lista doblemente enlazada de números complejos. Proporciona ejemplos funcionales."
            ]
        },
        {
            "cell_type": "code",
            "execution_count": null,
            "metadata": {
                "vscode": {
                    "languageId": "java"
                }
            },
            "outputs": [],
            "source": []
        },
        {
            "cell_type": "markdown",
            "metadata": {},
            "source": [
                "__Explique razonadamente el funcionamiento del código Java propuesto, así como la estrategia que ha seguido para resolver el problema__"
            ]
        },
        {
            "cell_type": "markdown",
            "metadata": {
                "vscode": {
                    "languageId": "java"
                }
            },
            "source": []
        }
    ],
    "metadata": {
        "language_info": {
            "name": "python"
        }
    },
    "nbformat": 4,
    "nbformat_minor": 2
}
